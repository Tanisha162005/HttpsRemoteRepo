{
 "cells": [
  {
   "cell_type": "markdown",
   "id": "04d8da61-d6f2-4b8e-af95-318809fc9cb6",
   "metadata": {},
   "source": [
    "**PROJECT - 1**"
   ]
  },
  {
   "cell_type": "code",
   "execution_count": 3,
   "id": "f05a8189-1abf-4025-80c9-3fe0b85a6181",
   "metadata": {},
   "outputs": [
    {
     "name": "stdin",
     "output_type": "stream",
     "text": [
      "enter the input value tanisha\n"
     ]
    },
    {
     "name": "stdout",
     "output_type": "stream",
     "text": [
      "it is not an palindrome\n"
     ]
    }
   ],
   "source": [
    "\n",
    "# take an input to check if palindrome or not\n",
    "s = input(\"enter the input value\")\n",
    " #reverse function \n",
    "#there are lots of method for revercing but we  going to use slicing method\n",
    "\n",
    "reversed = s[::-1]\n",
    "\n",
    "if(s==reversed):\n",
    "    print(\"yes it is an palindrome\")\n",
    "else:\n",
    "    print(\"it is not an palindrome\")\n",
    "    "
   ]
  }
 ],
 "metadata": {
  "kernelspec": {
   "display_name": "Python 3 (ipykernel)",
   "language": "python",
   "name": "python3"
  },
  "language_info": {
   "codemirror_mode": {
    "name": "ipython",
    "version": 3
   },
   "file_extension": ".py",
   "mimetype": "text/x-python",
   "name": "python",
   "nbconvert_exporter": "python",
   "pygments_lexer": "ipython3",
   "version": "3.11.7"
  }
 },
 "nbformat": 4,
 "nbformat_minor": 5
}
